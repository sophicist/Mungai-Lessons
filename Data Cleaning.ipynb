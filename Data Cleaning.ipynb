{
 "cells": [
  {
   "cell_type": "code",
   "execution_count": 4,
   "id": "5fbc1b59",
   "metadata": {},
   "outputs": [
    {
     "data": {
      "text/html": [
       "<div>\n",
       "<style scoped>\n",
       "    .dataframe tbody tr th:only-of-type {\n",
       "        vertical-align: middle;\n",
       "    }\n",
       "\n",
       "    .dataframe tbody tr th {\n",
       "        vertical-align: top;\n",
       "    }\n",
       "\n",
       "    .dataframe thead th {\n",
       "        text-align: right;\n",
       "    }\n",
       "</style>\n",
       "<table border=\"1\" class=\"dataframe\">\n",
       "  <thead>\n",
       "    <tr style=\"text-align: right;\">\n",
       "      <th></th>\n",
       "      <th>Unnamed: 0</th>\n",
       "      <th>Receipt No.</th>\n",
       "      <th>Completion Time</th>\n",
       "      <th>Details</th>\n",
       "      <th>Transaction\\rStatus</th>\n",
       "      <th>Paid In</th>\n",
       "      <th>Withdrawn</th>\n",
       "      <th>Balance</th>\n",
       "      <th>Unnamed: 0.1</th>\n",
       "      <th>Transaction</th>\n",
       "      <th>All Details</th>\n",
       "      <th>variables</th>\n",
       "      <th>Party</th>\n",
       "      <th>totals</th>\n",
       "      <th>clean_time</th>\n",
       "      <th>Names</th>\n",
       "      <th>Month</th>\n",
       "    </tr>\n",
       "  </thead>\n",
       "  <tbody>\n",
       "    <tr>\n",
       "      <th>0</th>\n",
       "      <td>0</td>\n",
       "      <td>NH10MSK4X8</td>\n",
       "      <td>2019-08-01 15:48:53</td>\n",
       "      <td>Pay Bill Charge</td>\n",
       "      <td>Completed</td>\n",
       "      <td>NaN</td>\n",
       "      <td>-34.00</td>\n",
       "      <td>24,339.11</td>\n",
       "      <td>NaN</td>\n",
       "      <td>NaN</td>\n",
       "      <td>Pay Bill Charge nan</td>\n",
       "      <td>charge</td>\n",
       "      <td>NaN</td>\n",
       "      <td>NaN</td>\n",
       "      <td>2019-08-01 15:48:53</td>\n",
       "      <td>NaN</td>\n",
       "      <td>August:2019</td>\n",
       "    </tr>\n",
       "    <tr>\n",
       "      <th>1</th>\n",
       "      <td>1</td>\n",
       "      <td>NH10MSK4X8</td>\n",
       "      <td>2019-08-01 15:48:53</td>\n",
       "      <td>Pay Bill to 544700 - UNAITAS SACCO Limited Acc...</td>\n",
       "      <td>Completed</td>\n",
       "      <td>NaN</td>\n",
       "      <td>-1,000.00</td>\n",
       "      <td>24,373.11</td>\n",
       "      <td>NaN</td>\n",
       "      <td>NaN</td>\n",
       "      <td>Pay Bill to 544700 - UNAITAS SACCO Limited Acc...</td>\n",
       "      <td>Payment</td>\n",
       "      <td>544700 - unaitas sacco limited acc.\\r100967233...</td>\n",
       "      <td>NaN</td>\n",
       "      <td>2019-08-01 15:48:53</td>\n",
       "      <td>unaitas sacco</td>\n",
       "      <td>August:2019</td>\n",
       "    </tr>\n",
       "    <tr>\n",
       "      <th>2</th>\n",
       "      <td>2</td>\n",
       "      <td>NH17MSGLHX</td>\n",
       "      <td>2019-08-01 15:45:24</td>\n",
       "      <td>Customer Transfer of Funds Charge</td>\n",
       "      <td>Completed</td>\n",
       "      <td>NaN</td>\n",
       "      <td>-15.00</td>\n",
       "      <td>25,373.11</td>\n",
       "      <td>NaN</td>\n",
       "      <td>NaN</td>\n",
       "      <td>Customer Transfer of Funds Charge nan</td>\n",
       "      <td>charge</td>\n",
       "      <td>NaN</td>\n",
       "      <td>NaN</td>\n",
       "      <td>2019-08-01 15:45:24</td>\n",
       "      <td>NaN</td>\n",
       "      <td>August:2019</td>\n",
       "    </tr>\n",
       "    <tr>\n",
       "      <th>3</th>\n",
       "      <td>3</td>\n",
       "      <td>NH17MSGLHX</td>\n",
       "      <td>2019-08-01 15:45:24</td>\n",
       "      <td>Customer Transfer to 254729675519 - DAMARIS\\rO...</td>\n",
       "      <td>Completed</td>\n",
       "      <td>NaN</td>\n",
       "      <td>-1,000.00</td>\n",
       "      <td>25,388.11</td>\n",
       "      <td>NaN</td>\n",
       "      <td>NaN</td>\n",
       "      <td>Customer Transfer to 254729675519 - DAMARIS\\rO...</td>\n",
       "      <td>Transfer</td>\n",
       "      <td>254729675519 - damaris\\rodeny nan</td>\n",
       "      <td>NaN</td>\n",
       "      <td>2019-08-01 15:45:24</td>\n",
       "      <td>damaris odeny</td>\n",
       "      <td>August:2019</td>\n",
       "    </tr>\n",
       "    <tr>\n",
       "      <th>4</th>\n",
       "      <td>4</td>\n",
       "      <td>NH16MQ7TAC</td>\n",
       "      <td>2019-08-01 14:24:25</td>\n",
       "      <td>Airtime Purchase</td>\n",
       "      <td>Completed</td>\n",
       "      <td>NaN</td>\n",
       "      <td>-100.00</td>\n",
       "      <td>26,388.11</td>\n",
       "      <td>NaN</td>\n",
       "      <td>NaN</td>\n",
       "      <td>Airtime Purchase nan</td>\n",
       "      <td>airtime</td>\n",
       "      <td>NaN</td>\n",
       "      <td>NaN</td>\n",
       "      <td>2019-08-01 14:24:25</td>\n",
       "      <td>NaN</td>\n",
       "      <td>August:2019</td>\n",
       "    </tr>\n",
       "  </tbody>\n",
       "</table>\n",
       "</div>"
      ],
      "text/plain": [
       "   Unnamed: 0 Receipt No.      Completion Time  \\\n",
       "0           0  NH10MSK4X8  2019-08-01 15:48:53   \n",
       "1           1  NH10MSK4X8  2019-08-01 15:48:53   \n",
       "2           2  NH17MSGLHX  2019-08-01 15:45:24   \n",
       "3           3  NH17MSGLHX  2019-08-01 15:45:24   \n",
       "4           4  NH16MQ7TAC  2019-08-01 14:24:25   \n",
       "\n",
       "                                             Details Transaction\\rStatus  \\\n",
       "0                                    Pay Bill Charge           Completed   \n",
       "1  Pay Bill to 544700 - UNAITAS SACCO Limited Acc...           Completed   \n",
       "2                  Customer Transfer of Funds Charge           Completed   \n",
       "3  Customer Transfer to 254729675519 - DAMARIS\\rO...           Completed   \n",
       "4                                   Airtime Purchase           Completed   \n",
       "\n",
       "  Paid In  Withdrawn    Balance Unnamed: 0.1 Transaction  \\\n",
       "0     NaN     -34.00  24,339.11          NaN         NaN   \n",
       "1     NaN  -1,000.00  24,373.11          NaN         NaN   \n",
       "2     NaN     -15.00  25,373.11          NaN         NaN   \n",
       "3     NaN  -1,000.00  25,388.11          NaN         NaN   \n",
       "4     NaN    -100.00  26,388.11          NaN         NaN   \n",
       "\n",
       "                                         All Details variables  \\\n",
       "0                                Pay Bill Charge nan    charge   \n",
       "1  Pay Bill to 544700 - UNAITAS SACCO Limited Acc...   Payment   \n",
       "2              Customer Transfer of Funds Charge nan    charge   \n",
       "3  Customer Transfer to 254729675519 - DAMARIS\\rO...  Transfer   \n",
       "4                               Airtime Purchase nan   airtime   \n",
       "\n",
       "                                               Party  totals  \\\n",
       "0                                                NaN     NaN   \n",
       "1  544700 - unaitas sacco limited acc.\\r100967233...     NaN   \n",
       "2                                                NaN     NaN   \n",
       "3                  254729675519 - damaris\\rodeny nan     NaN   \n",
       "4                                                NaN     NaN   \n",
       "\n",
       "            clean_time          Names        Month  \n",
       "0  2019-08-01 15:48:53            NaN  August:2019  \n",
       "1  2019-08-01 15:48:53  unaitas sacco  August:2019  \n",
       "2  2019-08-01 15:45:24            NaN  August:2019  \n",
       "3  2019-08-01 15:45:24  damaris odeny  August:2019  \n",
       "4  2019-08-01 14:24:25            NaN  August:2019  "
      ]
     },
     "execution_count": 4,
     "metadata": {},
     "output_type": "execute_result"
    }
   ],
   "source": [
    "import os\n",
    "import pandas as pd\n",
    "os.listdir('Data')\n",
    "df = pd.read_csv(\"Data/Njeri_full_year.csv\")\n",
    "df.head()"
   ]
  },
  {
   "cell_type": "markdown",
   "id": "b1f7eec4",
   "metadata": {},
   "source": [
    "# Data Cleaning\n",
    "## preliminary"
   ]
  },
  {
   "cell_type": "code",
   "execution_count": 13,
   "id": "a0f5fc65",
   "metadata": {},
   "outputs": [
    {
     "name": "stdout",
     "output_type": "stream",
     "text": [
      "################################################################################\n",
      "(2597, 17)\n",
      "################################################################################\n",
      "<class 'pandas.core.frame.DataFrame'>\n",
      "RangeIndex: 2597 entries, 0 to 2596\n",
      "Data columns (total 17 columns):\n",
      " #   Column              Non-Null Count  Dtype  \n",
      "---  ------              --------------  -----  \n",
      " 0   Unnamed: 0          2597 non-null   int64  \n",
      " 1   Receipt No.         2597 non-null   object \n",
      " 2   Completion Time     2597 non-null   object \n",
      " 3   Details             2493 non-null   object \n",
      " 4   Transaction\r",
      "Status  2187 non-null   object \n",
      " 5   Paid In             769 non-null    object \n",
      " 6   Withdrawn           1828 non-null   object \n",
      " 7   Balance             2597 non-null   object \n",
      " 8   Unnamed: 0.1        105 non-null    object \n",
      " 9   Transaction         410 non-null    object \n",
      " 10  All Details         2597 non-null   object \n",
      " 11  variables           2597 non-null   object \n",
      " 12  Party               1152 non-null   object \n",
      " 13  totals              769 non-null    float64\n",
      " 14  clean_time          2597 non-null   object \n",
      " 15  Names               1150 non-null   object \n",
      " 16  Month               2597 non-null   object \n",
      "dtypes: float64(1), int64(1), object(15)\n",
      "memory usage: 345.0+ KB\n",
      "None\n",
      "################################################################################\n"
     ]
    },
    {
     "data": {
      "text/html": [
       "<div>\n",
       "<style scoped>\n",
       "    .dataframe tbody tr th:only-of-type {\n",
       "        vertical-align: middle;\n",
       "    }\n",
       "\n",
       "    .dataframe tbody tr th {\n",
       "        vertical-align: top;\n",
       "    }\n",
       "\n",
       "    .dataframe thead th {\n",
       "        text-align: right;\n",
       "    }\n",
       "</style>\n",
       "<table border=\"1\" class=\"dataframe\">\n",
       "  <thead>\n",
       "    <tr style=\"text-align: right;\">\n",
       "      <th></th>\n",
       "      <th>Unnamed: 0</th>\n",
       "      <th>totals</th>\n",
       "    </tr>\n",
       "  </thead>\n",
       "  <tbody>\n",
       "    <tr>\n",
       "      <th>count</th>\n",
       "      <td>2597.000000</td>\n",
       "      <td>769.000000</td>\n",
       "    </tr>\n",
       "    <tr>\n",
       "      <th>mean</th>\n",
       "      <td>25.682711</td>\n",
       "      <td>3147.227841</td>\n",
       "    </tr>\n",
       "    <tr>\n",
       "      <th>std</th>\n",
       "      <td>15.813904</td>\n",
       "      <td>6303.304187</td>\n",
       "    </tr>\n",
       "    <tr>\n",
       "      <th>min</th>\n",
       "      <td>0.000000</td>\n",
       "      <td>7.890000</td>\n",
       "    </tr>\n",
       "    <tr>\n",
       "      <th>25%</th>\n",
       "      <td>12.000000</td>\n",
       "      <td>500.000000</td>\n",
       "    </tr>\n",
       "    <tr>\n",
       "      <th>50%</th>\n",
       "      <td>25.000000</td>\n",
       "      <td>1000.000000</td>\n",
       "    </tr>\n",
       "    <tr>\n",
       "      <th>75%</th>\n",
       "      <td>39.000000</td>\n",
       "      <td>3000.000000</td>\n",
       "    </tr>\n",
       "    <tr>\n",
       "      <th>max</th>\n",
       "      <td>59.000000</td>\n",
       "      <td>60000.000000</td>\n",
       "    </tr>\n",
       "  </tbody>\n",
       "</table>\n",
       "</div>"
      ],
      "text/plain": [
       "        Unnamed: 0        totals\n",
       "count  2597.000000    769.000000\n",
       "mean     25.682711   3147.227841\n",
       "std      15.813904   6303.304187\n",
       "min       0.000000      7.890000\n",
       "25%      12.000000    500.000000\n",
       "50%      25.000000   1000.000000\n",
       "75%      39.000000   3000.000000\n",
       "max      59.000000  60000.000000"
      ]
     },
     "execution_count": 13,
     "metadata": {},
     "output_type": "execute_result"
    }
   ],
   "source": [
    "\n",
    "print(\"##\"*40)\n",
    "# data shape\n",
    "print(df.shape)\n",
    "# get column types -  info\n",
    "print(\"##\"*40)\n",
    "\n",
    "print(df.info())\n",
    "# do a data summary\n",
    "print(\"##\"*40)\n",
    "df.describe()"
   ]
  },
  {
   "cell_type": "code",
   "execution_count": 5,
   "id": "5ef82ef0",
   "metadata": {},
   "outputs": [],
   "source": [
    "# Detecting missing values\n",
    "# detecting outliers\n",
    "# detecting duplicates\n",
    "# many others"
   ]
  },
  {
   "cell_type": "code",
   "execution_count": 7,
   "id": "fa7d04ec",
   "metadata": {},
   "outputs": [
    {
     "data": {
      "text/plain": [
       "Unnamed: 0                0\n",
       "Receipt No.               0\n",
       "Completion Time           0\n",
       "Details                 104\n",
       "Transaction\\rStatus     410\n",
       "Paid In                1828\n",
       "Withdrawn               769\n",
       "Balance                   0\n",
       "Unnamed: 0.1           2492\n",
       "Transaction            2187\n",
       "All Details               0\n",
       "variables                 0\n",
       "Party                  1445\n",
       "totals                 1828\n",
       "clean_time                0\n",
       "Names                  1447\n",
       "Month                     0\n",
       "dtype: int64"
      ]
     },
     "execution_count": 7,
     "metadata": {},
     "output_type": "execute_result"
    }
   ],
   "source": [
    "#Detecting missing values\n",
    "df.isnull().sum()"
   ]
  },
  {
   "cell_type": "code",
   "execution_count": 18,
   "id": "83242a33",
   "metadata": {},
   "outputs": [
    {
     "data": {
      "text/html": [
       "<div>\n",
       "<style scoped>\n",
       "    .dataframe tbody tr th:only-of-type {\n",
       "        vertical-align: middle;\n",
       "    }\n",
       "\n",
       "    .dataframe tbody tr th {\n",
       "        vertical-align: top;\n",
       "    }\n",
       "\n",
       "    .dataframe thead th {\n",
       "        text-align: right;\n",
       "    }\n",
       "</style>\n",
       "<table border=\"1\" class=\"dataframe\">\n",
       "  <thead>\n",
       "    <tr style=\"text-align: right;\">\n",
       "      <th></th>\n",
       "      <th>Completion Time</th>\n",
       "      <th>Paid In</th>\n",
       "      <th>Withdrawn</th>\n",
       "      <th>variables</th>\n",
       "    </tr>\n",
       "  </thead>\n",
       "  <tbody>\n",
       "    <tr>\n",
       "      <th>0</th>\n",
       "      <td>2019-08-01 15:48:53</td>\n",
       "      <td>NaN</td>\n",
       "      <td>-34.00</td>\n",
       "      <td>charge</td>\n",
       "    </tr>\n",
       "    <tr>\n",
       "      <th>1</th>\n",
       "      <td>2019-08-01 15:48:53</td>\n",
       "      <td>NaN</td>\n",
       "      <td>-1,000.00</td>\n",
       "      <td>Payment</td>\n",
       "    </tr>\n",
       "    <tr>\n",
       "      <th>2</th>\n",
       "      <td>2019-08-01 15:45:24</td>\n",
       "      <td>NaN</td>\n",
       "      <td>-15.00</td>\n",
       "      <td>charge</td>\n",
       "    </tr>\n",
       "    <tr>\n",
       "      <th>3</th>\n",
       "      <td>2019-08-01 15:45:24</td>\n",
       "      <td>NaN</td>\n",
       "      <td>-1,000.00</td>\n",
       "      <td>Transfer</td>\n",
       "    </tr>\n",
       "    <tr>\n",
       "      <th>4</th>\n",
       "      <td>2019-08-01 14:24:25</td>\n",
       "      <td>NaN</td>\n",
       "      <td>-100.00</td>\n",
       "      <td>airtime</td>\n",
       "    </tr>\n",
       "  </tbody>\n",
       "</table>\n",
       "</div>"
      ],
      "text/plain": [
       "      Completion Time Paid In  Withdrawn variables\n",
       "0 2019-08-01 15:48:53     NaN     -34.00    charge\n",
       "1 2019-08-01 15:48:53     NaN  -1,000.00   Payment\n",
       "2 2019-08-01 15:45:24     NaN     -15.00    charge\n",
       "3 2019-08-01 15:45:24     NaN  -1,000.00  Transfer\n",
       "4 2019-08-01 14:24:25     NaN    -100.00   airtime"
      ]
     },
     "execution_count": 18,
     "metadata": {},
     "output_type": "execute_result"
    }
   ],
   "source": [
    "# select columns youll need (filtering the data)\n",
    "useful = [\"Completion Time\",\"Paid In\",\"Withdrawn\",\"variables\"]\n",
    "dt = df[useful]\n",
    "dt.head()"
   ]
  },
  {
   "cell_type": "code",
   "execution_count": 20,
   "id": "11c6695a",
   "metadata": {},
   "outputs": [
    {
     "name": "stdout",
     "output_type": "stream",
     "text": [
      "<class 'pandas.core.frame.DataFrame'>\n",
      "RangeIndex: 2597 entries, 0 to 2596\n",
      "Data columns (total 4 columns):\n",
      " #   Column           Non-Null Count  Dtype         \n",
      "---  ------           --------------  -----         \n",
      " 0   Completion Time  2597 non-null   datetime64[ns]\n",
      " 1   Paid In          769 non-null    object        \n",
      " 2   Withdrawn        1828 non-null   object        \n",
      " 3   variables        2597 non-null   object        \n",
      "dtypes: datetime64[ns](1), object(3)\n",
      "memory usage: 81.3+ KB\n"
     ]
    },
    {
     "name": "stderr",
     "output_type": "stream",
     "text": [
      "<ipython-input-20-a3e2f73e7c0c>:2: SettingWithCopyWarning: \n",
      "A value is trying to be set on a copy of a slice from a DataFrame.\n",
      "Try using .loc[row_indexer,col_indexer] = value instead\n",
      "\n",
      "See the caveats in the documentation: https://pandas.pydata.org/pandas-docs/stable/user_guide/indexing.html#returning-a-view-versus-a-copy\n",
      "  dt[\"Completion Time\"] = pd.DatetimeIndex(dt[\"Completion Time\"])\n"
     ]
    }
   ],
   "source": [
    "# ensure the date column is a date\n",
    "dt[\"Completion Time\"] = pd.DatetimeIndex(dt[\"Completion Time\"])\n",
    "dt.info()"
   ]
  },
  {
   "cell_type": "code",
   "execution_count": 38,
   "id": "c95b48a3",
   "metadata": {},
   "outputs": [
    {
     "name": "stderr",
     "output_type": "stream",
     "text": [
      "<ipython-input-38-e99c882bd28b>:1: SettingWithCopyWarning: \n",
      "A value is trying to be set on a copy of a slice from a DataFrame.\n",
      "Try using .loc[row_indexer,col_indexer] = value instead\n",
      "\n",
      "See the caveats in the documentation: https://pandas.pydata.org/pandas-docs/stable/user_guide/indexing.html#returning-a-view-versus-a-copy\n",
      "  dt[\"Paid In\"] = [float(str(i).replace(\",\",\"\")) for i in dt[\"Paid In\"]]\n",
      "<ipython-input-38-e99c882bd28b>:2: SettingWithCopyWarning: \n",
      "A value is trying to be set on a copy of a slice from a DataFrame.\n",
      "Try using .loc[row_indexer,col_indexer] = value instead\n",
      "\n",
      "See the caveats in the documentation: https://pandas.pydata.org/pandas-docs/stable/user_guide/indexing.html#returning-a-view-versus-a-copy\n",
      "  dt[\"Withdrawn\"] = [float(str(i).replace(\",\",\"\")) * -1 for i in dt[\"Withdrawn\"]]\n"
     ]
    }
   ],
   "source": [
    "dt[\"Paid In\"] = [float(str(i).replace(\",\",\"\")) for i in dt[\"Paid In\"]]\n",
    "dt[\"Withdrawn\"] = [float(str(i).replace(\",\",\"\")) * -1 for i in dt[\"Withdrawn\"]]"
   ]
  },
  {
   "cell_type": "code",
   "execution_count": 39,
   "id": "a38a8e35",
   "metadata": {},
   "outputs": [
    {
     "data": {
      "text/plain": [
       "unsure      633\n",
       "charge      495\n",
       "Received    434\n",
       "Transfer    368\n",
       "airtime     301\n",
       "Payment     295\n",
       "withdraw     55\n",
       "internet     16\n",
       "Name: variables, dtype: int64"
      ]
     },
     "execution_count": 39,
     "metadata": {},
     "output_type": "execute_result"
    }
   ],
   "source": [
    "dt[\"variables\"].value_counts()"
   ]
  },
  {
   "cell_type": "code",
   "execution_count": 40,
   "id": "ac98484a",
   "metadata": {},
   "outputs": [
    {
     "name": "stdout",
     "output_type": "stream",
     "text": [
      "<class 'pandas.core.frame.DataFrame'>\n",
      "RangeIndex: 2597 entries, 0 to 2596\n",
      "Data columns (total 4 columns):\n",
      " #   Column           Non-Null Count  Dtype         \n",
      "---  ------           --------------  -----         \n",
      " 0   Completion Time  2597 non-null   datetime64[ns]\n",
      " 1   Paid In          2597 non-null   float64       \n",
      " 2   Withdrawn        2597 non-null   float64       \n",
      " 3   variables        2597 non-null   object        \n",
      "dtypes: datetime64[ns](1), float64(2), object(1)\n",
      "memory usage: 81.3+ KB\n"
     ]
    }
   ],
   "source": [
    "dt.info()"
   ]
  },
  {
   "cell_type": "code",
   "execution_count": 41,
   "id": "28d3f1f9",
   "metadata": {},
   "outputs": [
    {
     "name": "stderr",
     "output_type": "stream",
     "text": [
      "<ipython-input-41-ee37308fd9bf>:6: SettingWithCopyWarning: \n",
      "A value is trying to be set on a copy of a slice from a DataFrame.\n",
      "Try using .loc[row_indexer,col_indexer] = value instead\n",
      "\n",
      "See the caveats in the documentation: https://pandas.pydata.org/pandas-docs/stable/user_guide/indexing.html#returning-a-view-versus-a-copy\n",
      "  dt[\"Paid In\"] = dt[\"Paid In\"].fillna(0)\n",
      "<ipython-input-41-ee37308fd9bf>:7: SettingWithCopyWarning: \n",
      "A value is trying to be set on a copy of a slice from a DataFrame.\n",
      "Try using .loc[row_indexer,col_indexer] = value instead\n",
      "\n",
      "See the caveats in the documentation: https://pandas.pydata.org/pandas-docs/stable/user_guide/indexing.html#returning-a-view-versus-a-copy\n",
      "  dt[\"Withdrawn\"] = dt[\"Withdrawn\"].fillna(0)\n"
     ]
    },
    {
     "data": {
      "text/plain": [
       "Completion Time    0\n",
       "Paid In            0\n",
       "Withdrawn          0\n",
       "variables          0\n",
       "dtype: int64"
      ]
     },
     "execution_count": 41,
     "metadata": {},
     "output_type": "execute_result"
    }
   ],
   "source": [
    "# deal with the nulls\n",
    "dt.isnull().sum()\n",
    "# three methods for dealing with nulls\n",
    "# dt.dropna()  - drops the entire data: any row with a null\n",
    "# df.fillna() -  impute the data ( replace nulls with something  - replacing with mean,median  - include 0 or -1)\n",
    "dt[\"Paid In\"] = dt[\"Paid In\"].fillna(0)\n",
    "dt[\"Withdrawn\"] = dt[\"Withdrawn\"].fillna(0)\n",
    "dt.isnull().sum()"
   ]
  },
  {
   "cell_type": "code",
   "execution_count": 42,
   "id": "e25faeff",
   "metadata": {},
   "outputs": [
    {
     "data": {
      "text/plain": [
       "<AxesSubplot:>"
      ]
     },
     "execution_count": 42,
     "metadata": {},
     "output_type": "execute_result"
    },
    {
     "data": {
      "image/png": "[encoded data removed]",
      "text/plain": [
       "<Figure size 432x288 with 1 Axes>"
      ]
     },
     "metadata": {
      "needs_background": "light"
     },
     "output_type": "display_data"
    }
   ],
   "source": [
    "# detect outliers\n",
    "dt.plot(kind = \"box\")"
   ]
  },
  {
   "cell_type": "code",
   "execution_count": 44,
   "id": "f5720790",
   "metadata": {},
   "outputs": [
    {
     "name": "stderr",
     "output_type": "stream",
     "text": [
      "<ipython-input-44-3d9ecb189536>:2: SettingWithCopyWarning: \n",
      "A value is trying to be set on a copy of a slice from a DataFrame.\n",
      "Try using .loc[row_indexer,col_indexer] = value instead\n",
      "\n",
      "See the caveats in the documentation: https://pandas.pydata.org/pandas-docs/stable/user_guide/indexing.html#returning-a-view-versus-a-copy\n",
      "  dt[\"Withdrawn\"] = dt[\"Withdrawn\"] *-1\n"
     ]
    },
    {
     "data": {
      "text/html": [
       "<div>\n",
       "<style scoped>\n",
       "    .dataframe tbody tr th:only-of-type {\n",
       "        vertical-align: middle;\n",
       "    }\n",
       "\n",
       "    .dataframe tbody tr th {\n",
       "        vertical-align: top;\n",
       "    }\n",
       "\n",
       "    .dataframe thead th {\n",
       "        text-align: right;\n",
       "    }\n",
       "</style>\n",
       "<table border=\"1\" class=\"dataframe\">\n",
       "  <thead>\n",
       "    <tr style=\"text-align: right;\">\n",
       "      <th></th>\n",
       "      <th>Completion Time</th>\n",
       "      <th>Paid In</th>\n",
       "      <th>Withdrawn</th>\n",
       "      <th>variables</th>\n",
       "    </tr>\n",
       "  </thead>\n",
       "  <tbody>\n",
       "    <tr>\n",
       "      <th>0</th>\n",
       "      <td>2019-08-01 15:48:53</td>\n",
       "      <td>0.0</td>\n",
       "      <td>34.0</td>\n",
       "      <td>charge</td>\n",
       "    </tr>\n",
       "    <tr>\n",
       "      <th>1</th>\n",
       "      <td>2019-08-01 15:48:53</td>\n",
       "      <td>0.0</td>\n",
       "      <td>1000.0</td>\n",
       "      <td>Payment</td>\n",
       "    </tr>\n",
       "    <tr>\n",
       "      <th>2</th>\n",
       "      <td>2019-08-01 15:45:24</td>\n",
       "      <td>0.0</td>\n",
       "      <td>15.0</td>\n",
       "      <td>charge</td>\n",
       "    </tr>\n",
       "    <tr>\n",
       "      <th>3</th>\n",
       "      <td>2019-08-01 15:45:24</td>\n",
       "      <td>0.0</td>\n",
       "      <td>1000.0</td>\n",
       "      <td>Transfer</td>\n",
       "    </tr>\n",
       "    <tr>\n",
       "      <th>4</th>\n",
       "      <td>2019-08-01 14:24:25</td>\n",
       "      <td>0.0</td>\n",
       "      <td>100.0</td>\n",
       "      <td>airtime</td>\n",
       "    </tr>\n",
       "  </tbody>\n",
       "</table>\n",
       "</div>"
      ],
      "text/plain": [
       "      Completion Time  Paid In  Withdrawn variables\n",
       "0 2019-08-01 15:48:53      0.0       34.0    charge\n",
       "1 2019-08-01 15:48:53      0.0     1000.0   Payment\n",
       "2 2019-08-01 15:45:24      0.0       15.0    charge\n",
       "3 2019-08-01 15:45:24      0.0     1000.0  Transfer\n",
       "4 2019-08-01 14:24:25      0.0      100.0   airtime"
      ]
     },
     "execution_count": 44,
     "metadata": {},
     "output_type": "execute_result"
    }
   ],
   "source": [
    "# remove negatives\n",
    "dt[\"Withdrawn\"] = dt[\"Withdrawn\"] *-1\n",
    "dt.head()"
   ]
  },
  {
   "cell_type": "code",
   "execution_count": 45,
   "id": "74c511d4",
   "metadata": {},
   "outputs": [],
   "source": [
    "# assignment\n",
    "# subset the data and use different columns\n",
    "# do the preliminaries\n",
    "#detect outliers\n",
    "# detect NAs and deal with then (remove and impute them and compare)\n",
    "# atleas 2 column transformation\n",
    "# make 2 graphs"
   ]
  },
  {
   "cell_type": "code",
   "execution_count": null,
   "id": "f08890a0",
   "metadata": {},
   "outputs": [],
   "source": [
    "# read on Machine learning\n",
    "- supervised machine learning\n",
    " - atleast one linear model\n",
    " -  support vector machine\n",
    " - Gradient boosting (tree based models)\n",
    " - percepron learning and multi layerd perceptron ( Deep lear)\n",
    "- unsupervised machine learning ( 2 examples)"
   ]
  }
 ],
 "metadata": {
  "kernelspec": {
   "display_name": "Python 3",
   "language": "python",
   "name": "python3"
  },
  "language_info": {
   "codemirror_mode": {
    "name": "ipython",
    "version": 3
   },
   "file_extension": ".py",
   "mimetype": "text/x-python",
   "name": "python",
   "nbconvert_exporter": "python",
   "pygments_lexer": "ipython3",
   "version": "3.8.8"
  }
 },
 "nbformat": 4,
 "nbformat_minor": 5
}
